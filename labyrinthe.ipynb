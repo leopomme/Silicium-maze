{
 "cells": [
  {
   "cell_type": "code",
   "execution_count": 12,
   "metadata": {},
   "outputs": [
    {
     "name": "stdout",
     "output_type": "stream",
     "text": [
      "[[  0   0   0 ...   0   0 200]\n",
      " [  0   0   0 ...   0   0 255]\n",
      " [  0   0   0 ... 255 255 255]\n",
      " ...\n",
      " [200   0 255 ...   0   0 255]\n",
      " [  0   0   0 ...   0   0 255]\n",
      " [200 255 255 ... 255 255 255]]\n",
      "(4000, 4000)\n"
     ]
    }
   ],
   "source": [
    "import cv2\n",
    "import numpy as np\n",
    "from tqdm import tqdm\n",
    "\n",
    "layer0 = cv2.imread('layer0.png')\n",
    "layer0 = cv2.cvtColor(layer0, cv2.COLOR_BGR2GRAY)\n",
    "print(layer0)\n",
    "print(layer0.shape)\n",
    "layer1 = cv2.imread('layer1.png')\n",
    "layer1 = cv2.cvtColor(layer1, cv2.COLOR_BGR2GRAY)\n",
    "layer2 = cv2.imread('layer2.png')\n",
    "layer2 = cv2.cvtColor(layer2, cv2.COLOR_BGR2GRAY)\n"
   ]
  },
  {
   "cell_type": "code",
   "execution_count": 13,
   "metadata": {},
   "outputs": [
    {
     "name": "stdout",
     "output_type": "stream",
     "text": [
      "(3, 4000, 4000)\n"
     ]
    }
   ],
   "source": [
    "layer = np.array([layer0, layer1, layer2])\n",
    "print(layer.shape)"
   ]
  },
  {
   "cell_type": "code",
   "execution_count": 14,
   "metadata": {},
   "outputs": [],
   "source": [
    "starting_points = []"
   ]
  },
  {
   "cell_type": "code",
   "execution_count": 15,
   "metadata": {},
   "outputs": [],
   "source": [
    "for i in range(4000):\n",
    "    for j in range(4000):\n",
    "        if layer0[i,j]==200 and layer1[i,j]==200:\n",
    "            starting_points.append((i,j))"
   ]
  },
  {
   "cell_type": "code",
   "execution_count": 16,
   "metadata": {},
   "outputs": [
    {
     "name": "stdout",
     "output_type": "stream",
     "text": [
      "110220\n",
      "(0, 46)\n",
      "46\n"
     ]
    }
   ],
   "source": [
    "print(len(starting_points))\n",
    "print(starting_points[0])\n",
    "print(starting_points[0][1])"
   ]
  },
  {
   "cell_type": "code",
   "execution_count": 18,
   "metadata": {},
   "outputs": [
    {
     "name": "stderr",
     "output_type": "stream",
     "text": [
      "100%|██████████| 110220/110220 [01:43<00:00, 1063.92it/s]\n"
     ]
    }
   ],
   "source": [
    "counter_list=[]\n",
    "for t in tqdm(range(len(starting_points))):\n",
    "    x = starting_points[t][0]\n",
    "    y = starting_points[t][1]\n",
    "    z=0\n",
    "    stop=0\n",
    "    counter=0\n",
    "    check = 0\n",
    "    pos_list=[]\n",
    "\n",
    "    while check<5:\n",
    "        # print(counter)\n",
    "        moved=0\n",
    "        \n",
    "        ### x increases xxx +++\n",
    "        if x<3999 and (z,x+1,y) not in pos_list:\n",
    "            # print(\"x<4000\")\n",
    "            if layer[z,x+1,y] == 255 and moved==0:\n",
    "                x +=1\n",
    "                counter +=1\n",
    "                moved=1\n",
    "                # print(\"255\")\n",
    "\n",
    "            if moved==0 and layer[z,x+1,y] == 200: \n",
    "                x +=1\n",
    "                counter +=1\n",
    "                moved=1\n",
    "                # print(\"200\")\n",
    "                if z==0:\n",
    "                    if layer[z+1,x,y] == 200 and (z+1,x,y) not in pos_list:\n",
    "                        z +=1\n",
    "                if z==1:\n",
    "                    if layer[z-1,x,y] == 200 and (z-1,x,y) not in pos_list:\n",
    "                        z -=1\n",
    "    \n",
    "                    if layer[z+1,x,y] == 200 and (z+1,x,y) not in pos_list:\n",
    "                        z +=1\n",
    "                if z==2:\n",
    "                    if layer[z-1,x,y] == 200 and (z-1,x,y) not in pos_list:\n",
    "                        z -=1\n",
    "    \n",
    "\n",
    "        if y<3999 and (z,x,y+1) not in pos_list:\n",
    "            # print(\"y<4000\")\n",
    "            if layer[z,x,y+1] == 255 and moved==0:\n",
    "                y +=1\n",
    "                counter +=1\n",
    "                moved=1\n",
    "                # print(\"255\")\n",
    "            if moved ==0 and layer[z,x,y+1] == 200: \n",
    "                y +=1\n",
    "                counter +=1\n",
    "                moved=1\n",
    "                # print(\"200\")\n",
    "                if z==0:\n",
    "                    if layer[z+1,x,y] == 200 and (z+1,x,y) not in pos_list:\n",
    "                        z +=1\n",
    "                if z==1:\n",
    "                    if layer[z-1,x,y] == 200 and (z-1,x,y) not in pos_list:\n",
    "                        z -=1\n",
    "    \n",
    "                    if layer[z+1,x,y] == 200 and (z+1,x,y) not in pos_list:\n",
    "                        z +=1\n",
    "                if z==2:\n",
    "                    if layer[z-1,x,y] == 200 and (z-1,x,y) not in pos_list:\n",
    "                        z -=1\n",
    "    \n",
    "\n",
    "        if x>0 and (z,x-1,y) not in pos_list:\n",
    "            # print(\"x>0\")\n",
    "            if layer[z,x-1,y] == 255 and moved==0:\n",
    "                x -=1\n",
    "                counter +=1\n",
    "                moved=1\n",
    "                # print(\"255\")\n",
    "            if moved ==0 and layer[z,x-1,y] == 200: #change layer for x-1\n",
    "                x -=1\n",
    "                counter +=1\n",
    "                moved=1\n",
    "                # print(\"200\")\n",
    "                if z==0:\n",
    "                    if layer[z+1,x,y] == 200 and (z+1,x,y) not in pos_list:\n",
    "                        z +=1\n",
    "                if z==1:\n",
    "                    if layer[z-1,x,y] == 200 and (z-1,x,y) not in pos_list:\n",
    "                        z -=1\n",
    "                    if layer[z+1,x,y] == 200 and (z+1,x,y) not in pos_list:\n",
    "                        z +=1\n",
    "                if z==2:\n",
    "                    if layer[z-1,x,y] == 200 and (z-1,x,y) not in pos_list:\n",
    "                        z -=1\n",
    "    \n",
    "\n",
    "        if y>0 and (z,x,y-1) not in pos_list:\n",
    "            # print(\"y>0\")\n",
    "            if layer[z,x,y-1] == 255 and moved==0:\n",
    "                y -=1\n",
    "                counter +=1\n",
    "                moved=1\n",
    "                # print(\"255\")\n",
    "            if moved ==0 and layer[z,x,y-1] == 200: #change layer for y-1\n",
    "                y -=1\n",
    "                counter +=1\n",
    "                moved=1\n",
    "                # print(\"200\")\n",
    "                if z==0:\n",
    "                    if layer[z+1,x,y] == 200 and (z+1,x,y) not in pos_list:\n",
    "                        z +=1\n",
    "                if z==1:\n",
    "                    if layer[z-1,x,y] == 200 and (z-1,x,y) not in pos_list:\n",
    "                        z -=1\n",
    "    \n",
    "                    if layer[z+1,x,y] == 200 and (z+1,x,y) not in pos_list:\n",
    "                        z +=1\n",
    "                if z==2:\n",
    "                    if layer[z-1,x,y] == 200 and (z-1,x,y) not in pos_list:\n",
    "                        z -=1\n",
    "    \n",
    "\n",
    "        if (z,x,y) in pos_list:\n",
    "            check +=1\n",
    "\n",
    "        pos_list.append((z,x,y))\n",
    "\n",
    "    counter_list.append(counter)\n"
   ]
  },
  {
   "cell_type": "code",
   "execution_count": 19,
   "metadata": {},
   "outputs": [
    {
     "name": "stdout",
     "output_type": "stream",
     "text": [
      "702\n"
     ]
    }
   ],
   "source": [
    "print(max(counter_list))"
   ]
  }
 ],
 "metadata": {
  "kernelspec": {
   "display_name": "Python 3.8.5 64-bit",
   "language": "python",
   "name": "python3"
  },
  "language_info": {
   "codemirror_mode": {
    "name": "ipython",
    "version": 3
   },
   "file_extension": ".py",
   "mimetype": "text/x-python",
   "name": "python",
   "nbconvert_exporter": "python",
   "pygments_lexer": "ipython3",
   "version": "3.8.5"
  },
  "orig_nbformat": 4,
  "vscode": {
   "interpreter": {
    "hash": "aee8b7b246df8f9039afb4144a1f6fd8d2ca17a180786b69acc140d282b71a49"
   }
  }
 },
 "nbformat": 4,
 "nbformat_minor": 2
}
